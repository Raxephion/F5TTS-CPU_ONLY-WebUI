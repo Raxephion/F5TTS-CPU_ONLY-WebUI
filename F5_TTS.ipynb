{
  "cells": [
    {
      "cell_type": "code",
      "execution_count": null,
      "metadata": {
        "colab": {
          "background_save": true,
          "base_uri": "https://localhost:8080/",
          "height": 47
        },
        "id": "u9bXCKHieEdV",
        "outputId": "72d6bfe9-6a69-43bf-981a-daebfe9ac0f3"
      },
      "outputs": [
        {
          "data": {
            "text/html": [
              "<div style=\"position:fixed;top:0;left:0;width:100%;background-color:#f0f0f0;padding:10px;text-align:center;\">\n",
              "      <p>Installing torchaudio...</p>\n",
              "      <progress style=\"width:100%\"></progress></div>\n",
              "      "
            ],
            "text/plain": [
              "<IPython.core.display.HTML object>"
            ]
          },
          "metadata": {},
          "output_type": "display_data"
        }
      ],
      "source": [
        "# @title F5-TTS {\"display-mode\":\"form\"}\n",
        "# @markdown # F5-TTS: Advanced Text-to-Speech on Google Colab\n",
        "# @markdown This Colab notebook sets up and runs F5-TTS, a versatile and powerful text-to-speech model. It automates the installation process and provides a user-friendly interface for exploring advanced TTS capabilities.\n",
        "# @markdown\n",
        "# @markdown Key Features:\n",
        "# @markdown * Clone any voice using just a 15-second audio sample\n",
        "# @markdown * Generate conversations with two distinct speaker voices as Podcast\n",
        "# @markdown * Produce speech in various styles and emotions\n",
        "# @markdown * Experiment with two different models to compare and evaluate all features\n",
        "# @markdown\n",
        "# @markdown\n",
        "# @markdown > This notebook is ideal for researchers, developers, content creators, and anyone interested in cutting-edge text-to-speech technology. It offers a convenient way to explore advanced TTS capabilities without requiring complex setup or specialized hardware.\n",
        "# @markdown\n",
        "# @markdown\n",
        "# @markdown\n",
        "\n",
        "from IPython.display import clear_output, display, HTML\n",
        "def show_progress(percentage, activity, show=True):\n",
        "  clear_output(wait=True)\n",
        "  if show:\n",
        "    display(HTML(f'''<div style=\"position:fixed;top:0;left:0;width:100%;background-color:#f0f0f0;padding:10px;text-align:center;\">\n",
        "      <p>{activity}</p>\n",
        "      <progress style=\"width:100%\"></progress></div>\n",
        "      '''))\n",
        "\n",
        "\n",
        "\n",
        "show_progress(0, \"Cloning F5-TTS...\")\n",
        "!git clone https://github.com/SWivid/F5-TTS.git >> log.f5\n",
        "\n",
        "# Change to the folder\n",
        "%cd F5-TTS\n",
        "\n",
        "#check current folder\n",
        "!pwd\n",
        "\n",
        "\n",
        "# Install all dependencies\n",
        "\n",
        "show_progress(0, \"Installing requirements.txt...\")\n",
        "!pip install -r requirements.txt >> log.f5\n",
        "show_progress(45, \"Installing torchvision...\")\n",
        "!pip install torch --extra-index-url https://download.pytorch.org/whl/cu113  >> log.f5\n",
        "show_progress(75, \"Installing torchaudio...\")\n",
        "!pip install  --force-reinstall torchaudio --extra-index-url https://download.pytorch.org/whl/cu121  >> log.f5\n",
        "show_progress(100, \"Installation completed successful\", False)\n",
        "\n",
        "# Run The App\n",
        "!python3 gradio_app.py --share\n"
      ]
    }
  ],
  "metadata": {
    "accelerator": "GPU",
    "colab": {
      "gpuType": "T4",
      "provenance": []
    },
    "kernelspec": {
      "display_name": "Python 3",
      "name": "python3"
    },
    "language_info": {
      "name": "python"
    }
  },
  "nbformat": 4,
  "nbformat_minor": 0
}
